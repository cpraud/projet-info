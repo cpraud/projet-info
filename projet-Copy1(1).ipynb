{
 "cells": [
  {
   "cell_type": "markdown",
   "metadata": {},
   "source": [
    "# Diffusion du xénon dans le combustible nucléaire\n",
    "\n",
    "Projet informatique, Alice PELOSSE & Clément PRAUD"
   ]
  },
  {
   "cell_type": "markdown",
   "metadata": {},
   "source": [
    "## Modélisation d’un déplacement aléatoire d’atomes\n",
    "Il s'agit de notre première étape, nécesaire avant de prendre en compte l'interaction avec la matrice de Zirconium et l'interaction entre atomes de Xénon.\n",
    "\n",
    "Nous pensons gérer le problème avec des listes, chacune asociée à un type de particule. Les listes ont l'avantage par rapport aux array de numpy d'être de tailles varaibles et d'ainsi permettre à notre nombre d'entités pour chaque espèce de varier.\n",
    "Ainsi, il nous faut générer 4 tableaux indépendants modélisant les atomes présents (Zr, O, C et Xe).\n",
    "Pour chaque atomes on connait sa position (i,j) correspondant à la ligne et à la colonne dans la matrice.\n",
    "\n",
    "A titre d'exemple, appeler Xe[10] retournera les coordonnées de l'atome 11 de Xénon (en convention de numérotation Python)."
   ]
  },
  {
   "cell_type": "markdown",
   "metadata": {},
   "source": [
    "### Déplacement du Xénon\n",
    "\n",
    "Pour un atome donné Xe on a une probabilité $P$ \n",
    "de se déplacer selon une des 9 directions (la 9eme étant on reste sur place).\n",
    "\n",
    "Pour l'échelle de temps de diffusion, il faut regarder l'équation de diffusion. Nous pourrons ainsi, à l'aide des paramètres initiaux eterminer la longueur interessante pour la modélisation.\n",
    "\n",
    "Pour la mise à jour de la position des atomes, on prend de manière aléatoire un atome dans le tableau Xe (fonction random) : en effet, il n'y a aucune raison de parcourir la liste dans l'ordre !\n",
    "\n",
    "Dans un premiere temps, on ne tiendra pas compte du problème de superposition de deux atomes de Xénon.\n",
    "\n",
    "#### Initialisation d'une distribution de xénon aléatoire\n",
    "\n",
    "On place aléatoirement N atomes dans un tableau de taille LxL. Pour cela, on tire aléatoirement pour chaque particule deux nombres i et j entre 0 et L-1 qui correspondent à l'abscisse et l'ordonnée de la particule"
   ]
  },
  {
   "cell_type": "code",
   "execution_count": 5,
   "metadata": {
    "collapsed": false
   },
   "outputs": [
    {
     "name": "stdout",
     "output_type": "stream",
     "text": [
      "[8 2]\n",
      "[9 0]\n"
     ]
    },
    {
     "data": {
      "image/png": "[encoded data removed]",
      "text/plain": [
       "<matplotlib.figure.Figure at 0x2b4f88c68b50>"
      ]
     },
     "metadata": {},
     "output_type": "display_data"
    }
   ],
   "source": [
    "import numpy as np\n",
    "import matplotlib.pyplot as plt\n",
    "from random import randint\n",
    "%matplotlib inline  #avoir le graph dans le fichier\n",
    "\n",
    "#Déclaration des varaibles\n",
    "\n",
    "\n",
    "L=10                  #Taile de la matrice \n",
    "N=2                   #Nombres de particules initialement \n",
    "Nbre_Etapes=10       #Nombres d'instants dans l'expérience\n",
    "\n",
    "\n",
    "def distribution_initiale(N,L):\n",
    "    \"\"\"\n",
    "    Retourne la position des N particules présentes à l'état initial dans la matrice de taille NxN\n",
    "    La distribution des position est aléatoire.\n",
    "    Deux atomes peuvent être au même endroit.\n",
    "    \n",
    "    Exemple :\n",
    "        \n",
    "    >>> distribution_initiale_Xenon(2,10)\n",
    "    [array([0, 5]), array([6, 2])]\n",
    "\n",
    "    \"\"\"\n",
    "    n=[0]*N\n",
    "    for i in range(N):\n",
    "        n[i]=np.array([randint(0,L-1),randint(0,L-1)])\n",
    "    return n\n",
    "    \n",
    "Xe=distribution_initiale(N,L)\n",
    "\n",
    "M=np.zeros((L,L))\n",
    "\n",
    "for i in range(N):\n",
    "    p=Xe[i]\n",
    "    print(p)\n",
    "    M[p[0]][p[1]] =1\n",
    "    \n",
    "plt.imshow(M,cmap='Spectral')\n",
    "plt.show()"
   ]
  },
  {
   "cell_type": "markdown",
   "metadata": {},
   "source": [
    "Dans notre problème, le xénon arrive d'un coté de la céramique en oxycarbure de Zirconium. on se place en 2D et on suppose que le xénon est produit dans l'oxyde d'uranium situé à gauche de la gaine. Ainsi l'abscisse des particules au départ est fixé à 0 et l'ordonnée est tiré aléatoirement "
   ]
  },
  {
   "cell_type": "code",
   "execution_count": 6,
   "metadata": {
    "collapsed": false,
    "scrolled": false
   },
   "outputs": [
    {
     "data": {
      "image/png": "[encoded data removed]",
      "text/plain": [
       "<matplotlib.figure.Figure at 0x2b4f88a96e50>"
      ]
     },
     "metadata": {},
     "output_type": "display_data"
    }
   ],
   "source": [
    "def distribution_initiale_xenon(N,L):\n",
    "    \"\"\"\n",
    "    Retourne la position des N particules présentes à l'état initial dans la matrice de taille NxN\n",
    "    La distribution des position est aléatoire.\n",
    "    Deux atomes peuvent être au même endroit.\n",
    "    \n",
    "    Exemple :\n",
    "        \n",
    "    >>> distribution_initiale_Xenon(2,10)\n",
    "    [array([0, 5]), array([6, 2])]\n",
    "\n",
    "    \"\"\"\n",
    "    n=[0]*N\n",
    "    for i in range(N):\n",
    "        n[i]=np.array([randint(0,L-1),0]) #modification de l'abscisse par rapport au code précédent\n",
    "    return n\n",
    "    \n",
    "Xe=distribution_initiale_xenon(N,L)\n",
    "\n",
    "M=np.zeros((L,L))\n",
    "\n",
    "for i in range(N):\n",
    "    p=Xe[i]\n",
    "    M[p[0]][p[1]] =1\n",
    "    \n",
    "plt.imshow(M,cmap='Spectral')\n",
    "plt.show()"
   ]
  },
  {
   "cell_type": "markdown",
   "metadata": {},
   "source": [
    "#### Marche aléatoire\n",
    "\n",
    "En première approximation, pour modéliser la diffusion, on utilisera le modèle de marche aléatoire discrète. Chaque atome de xénon peu se déplacer dans chacune des directions.\n",
    "\n",
    "##### Principe \n",
    "\n",
    "On considère deux lois de probabilité qui retourne {-1, 0, 1} avec la probabilité $p = \\frac{1}{3}$ pour chaque valeur. Ainsi l'ordonnée et l'abscisse sont modifiés de manière aléatoire. On tiendra compte des conditions au bord; ainsi une particule ne peut pas sortir de la céramique pour le moment. \n",
    "\n",
    "|                  |               |               |\n",
    "| :-----------:    | :-----------: | :-----------: |\n",
    "| {-1,1}           | {0,1}         | {1,1}         |\n",
    "| {-1,0}           | {0,0}         | {1,0}         |\n",
    "| {-1,-1}          | {0,-1}        | {1,-1}        |\n",
    "\n",
    "\n"
   ]
  },
  {
   "cell_type": "code",
   "execution_count": null,
   "metadata": {
    "collapsed": true
   },
   "outputs": [],
   "source": []
  },
  {
   "cell_type": "markdown",
   "metadata": {},
   "source": [
    "### Création et désintégration du Xénon,\n",
    "Dans la liste des atomes de Xénon on enlève et ajoute des atomes selon la loi de désintégration de l'iode et de l'uranium et celle du xénon.\n",
    "Cette loi est de la forme : $$ N(t) = N{o} \\exp \\left(\\frac{-t}{\\tau}\\right) $$ avec N le nombre de particules à l'instant t et $N{o}$ le nombre de particules à l'instant initial.\n",
    "\n",
    "*ajouter le graphique produit de fission avec temps de demi-vie\n",
    "https://upload.wikimedia.org/wikipedia/commons/d/d5/Chaine_Xenon.PNG\n",
    "\n",
    "code python désintegration iode et xenon "
   ]
  },
  {
   "cell_type": "code",
   "execution_count": null,
   "metadata": {
    "collapsed": true
   },
   "outputs": [],
   "source": []
  }
 ],
 "metadata": {
  "kernelspec": {
   "display_name": "Python [Root]",
   "language": "python",
   "name": "Python [Root]"
  },
  "language_info": {
   "codemirror_mode": {
    "name": "ipython",
    "version": 2
   },
   "file_extension": ".py",
   "mimetype": "text/x-python",
   "name": "python",
   "nbconvert_exporter": "python",
   "pygments_lexer": "ipython2",
   "version": "2.7.12"
  }
 },
 "nbformat": 4,
 "nbformat_minor": 2
}
