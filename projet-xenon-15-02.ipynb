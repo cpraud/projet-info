{
 "cells": [
  {
   "cell_type": "markdown",
   "metadata": {
    "nbpresent": {
     "id": "4079e81d-4602-40c3-a35f-c96c6ba313a9"
    }
   },
   "source": [
    "# Diffusion du xénon dans le combustible nucléaire\n",
    "\n",
    "Projet informatique, Alice PELOSSE & Clément PRAUD"
   ]
  },
  {
   "cell_type": "markdown",
   "metadata": {
    "nbpresent": {
     "id": "19063889-dbf1-46e1-babb-55e708474ec3"
    }
   },
   "source": [
    "## Modélisation d’un déplacement aléatoire d’atomes\n",
    "Il s'agit de notre première étape, nécesaire avant de prendre en compte l'interaction avec la matrice de Zirconium et l'interaction entre atomes de Xénon.\n",
    "\n",
    "Nous pensons gérer le problème avec des listes, chacune asociée à un type de particule. Les listes ont l'avantage par rapport aux array de numpy d'être de tailles varaibles et d'ainsi permettre à notre nombre d'entités pour chaque espèce de varier.\n",
    "Ainsi, il nous faut générer 4 tableaux indépendants modélisant les atomes présents (Zr, O, C et Xe).\n",
    "Pour chaque atomes on connait sa position (i,j) correspondant à la ligne et à la colonne dans la matrice.\n",
    "\n",
    "A titre d'exemple, appeler Xe[10] retournera les coordonnées de l'atome 11 de Xénon (en convention de numérotation Python).\n",
    "\n",
    "\n",
    "Nous déterminerons l'ensemble des valeurs numériques utilisées à la fin du sujet.\n"
   ]
  },
  {
   "cell_type": "markdown",
   "metadata": {
    "nbpresent": {
     "id": "c7da9e80-086b-4082-98bd-308985ced9a5"
    }
   },
   "source": [
    "### Déplacement du Xénon\n",
    "\n",
    "Pour un atome donné Xe on a une probabilité $P$ \n",
    "de se déplacer selon une des 9 directions (la 9eme étant on reste sur place).\n",
    "\n",
    "Pour l'échelle de temps de diffusion, il faut regarder l'équation de diffusion. Nous pourrons ainsi, à l'aide des paramètres initiaux eterminer la longueur interessante pour la modélisation.\n",
    "\n",
    "Pour la mise à jour de la position des atomes, on prend de manière aléatoire un atome dans le tableau Xe (fonction random) : en effet, il n'y a aucune raison de parcourir la liste dans l'ordre !\n",
    "\n",
    "Dans un premiere temps, on ne tiendra pas compte du problème de superposition de deux atomes de Xénon puisque nous traiterons la formation de bulles ultérieurement.\n",
    "\n",
    "#### Initialisation d'une distribution de xénon aléatoire\n",
    "\n",
    "On place aléatoirement N atomes dans un tableau de taille LxL. Pour cela, on tire aléatoirement pour chaque particule deux nombres i et j entre 0 et L-1 qui correspondent à l'abscisse et l'ordonnée de la particule"
   ]
  },
  {
   "cell_type": "code",
   "execution_count": 8,
   "metadata": {
    "collapsed": false,
    "nbpresent": {
     "id": "98caea7c-ca74-4a58-94b4-8223ae499eb6"
    }
   },
   "outputs": [
    {
     "name": "stdout",
     "output_type": "stream",
     "text": [
      "[9 8]\n",
      "[1 6]\n"
     ]
    },
    {
     "data": {
      "image/png": "[encoded data removed]",
      "text/plain": [
       "<matplotlib.figure.Figure at 0x2b0ed56fe690>"
      ]
     },
     "metadata": {},
     "output_type": "display_data"
    }
   ],
   "source": [
    "import numpy as np\n",
    "import matplotlib.pyplot as plt\n",
    "from random import randint\n",
    "%matplotlib inline\n",
    "\n",
    "#Déclaration des varaibles\n",
    "\n",
    "\n",
    "L=10                  #Taile de la matrice \n",
    "N=2                   #Nombres de particules initialement \n",
    "Nbre_Etapes=10       #Nombres d'instants dans l'expérience\n",
    "\n",
    "\n",
    "def distribution_initiale(N,L):\n",
    "    \"\"\"\n",
    "    Retourne la position des N particules présentes à l'état initial dans la matrice de taille NxN\n",
    "    La distribution des position est aléatoire.\n",
    "    Deux atomes peuvent être au même endroit.\n",
    "    \n",
    "    Exemple :\n",
    "        \n",
    "    >>> distribution_initiale_Xenon(2,10)\n",
    "    [array([0, 5]), array([6, 2])]\n",
    "\n",
    "    \"\"\"\n",
    "    n=[0]*N\n",
    "    for i in range(N):\n",
    "        n[i]=np.array([randint(0,L-1),randint(0,L-1)])\n",
    "    return n\n",
    "    \n",
    "Xe=distribution_initiale(N,L)\n",
    "\n",
    "M=np.zeros((L,L))\n",
    "\n",
    "for i in range(N):\n",
    "    p=Xe[i]\n",
    "    print(p)\n",
    "    M[p[0]][p[1]] =1\n",
    "    \n",
    "plt.imshow(M,cmap='Spectral')\n",
    "plt.show()"
   ]
  },
  {
   "cell_type": "markdown",
   "metadata": {
    "nbpresent": {
     "id": "f80aea59-a57c-4319-9913-ca4238aacd32"
    }
   },
   "source": [
    "Dans notre problème, le xénon arrive d'un coté de la céramique en oxycarbure de Zirconium. on se place en 2D et on suppose que le xénon est produit dans l'oxyde d'uranium situé à gauche de la gaine. Ainsi l'abscisse des particules au départ est fixé à 0 et l'ordonnée est tiré aléatoirement "
   ]
  },
  {
   "cell_type": "code",
   "execution_count": 9,
   "metadata": {
    "collapsed": false,
    "nbpresent": {
     "id": "da197ab6-b92a-410e-97e3-7498f7cf7e79"
    },
    "scrolled": false
   },
   "outputs": [
    {
     "data": {
      "image/png": "[encoded data removed]",
      "text/plain": [
       "<matplotlib.figure.Figure at 0x2b0eca83a550>"
      ]
     },
     "metadata": {},
     "output_type": "display_data"
    }
   ],
   "source": [
    "def distribution_initiale_xenon(N,L):\n",
    "    \"\"\"\n",
    "    Retourne la position des N particules présentes à l'état initial dans la matrice de taille NxN\n",
    "    La distribution des position est aléatoire.\n",
    "    Deux atomes peuvent être au même endroit.\n",
    "    \n",
    "    Exemple :\n",
    "        \n",
    "    >>> distribution_initiale_Xenon(2,10)\n",
    "    [array([0, 5]), array([6, 2])]\n",
    "\n",
    "    \"\"\"\n",
    "    n=[0]*N\n",
    "    for i in range(N):\n",
    "        n[i]=np.array([randint(0,L-1),0]) #modification de l'abscisse par rapport au code précédent\n",
    "    return n\n",
    "    \n",
    "Xe=distribution_initiale_xenon(N,L)\n",
    "\n",
    "M=np.zeros((L,L))\n",
    "\n",
    "for i in range(N):\n",
    "    p=Xe[i]\n",
    "    M[p[0]][p[1]] =1\n",
    "    \n",
    "plt.imshow(M,cmap='Spectral')\n",
    "plt.show()"
   ]
  },
  {
   "cell_type": "markdown",
   "metadata": {
    "nbpresent": {
     "id": "c069f638-8756-4ec2-89e1-71833a0e7111"
    }
   },
   "source": [
    "#### Marche aléatoire\n",
    "\n",
    "En première approximation, pour modéliser la diffusion, on utilisera le modèle de marche aléatoire discrète. Chaque atome de xénon peu se déplacer dans chacune des directions.\n",
    "\n",
    "##### Principe \n",
    "\n",
    "On considère deux lois de probabilité qui retourne {-1, 0, 1} avec la probabilité $p = \\frac{1}{3}$ pour chaque valeur. Ainsi l'ordonnée et l'abscisse sont modifiés de manière aléatoire. On tiendra compte des conditions au bord; ainsi une particule ne peut pas sortir de la céramique pour le moment. \n",
    "\n",
    "|                  |               |               |\n",
    "| :-----------:    | :-----------: | :-----------: |\n",
    "| {-1,1}           | {0,1}         | {1,1}         |\n",
    "| {-1,0}           | {0,0}         | {1,0}         |\n",
    "| {-1,-1}          | {0,-1}        | {1,-1}        |\n",
    "\n",
    "\n"
   ]
  },
  {
   "cell_type": "code",
   "execution_count": 4,
   "metadata": {
    "collapsed": false,
    "nbpresent": {
     "id": "49913018-d227-4c1c-b2a2-a651a707ed18"
    }
   },
   "outputs": [
    {
     "data": {
      "image/png": "[encoded data removed]",
      "text/plain": [
       "<matplotlib.figure.Figure at 0x86e4bd0>"
      ]
     },
     "metadata": {},
     "output_type": "display_data"
    }
   ],
   "source": [
    "'''Code animation diffusion'''\n",
    "\n",
    "import random as rd\n",
    "from pylab import *\n",
    "\n",
    "# Paramètre\n",
    "L=10                  #Taile de la matrice \n",
    "N=4                   #Nombres de particules initialement \n",
    "Nbre_Etapes=50        #Nombres d'instants dans l'expérience\n",
    "\n",
    "def distribution_initiale_xenon(N,L):\n",
    "    n=[0]*N\n",
    "    for i in range(N):\n",
    "        n[i]=np.array([randint(0,L-1),0]) #modification de l'abscisse par rapport au code précédent\n",
    "    return n\n",
    "\n",
    "ion() # mode interaction on\n",
    "image=plt.figure()\n",
    "Xe=distribution_initiale_xenon(N,L)\n",
    "nb_particules=len(Xe)\n",
    "\n",
    "for k in range(Nbre_Etapes):\n",
    "    p=rd.randint(0,nb_particules-1)\n",
    "    (x,y)=(Xe[p][0],Xe[p][1])\n",
    "    \n",
    "    (a,b)=(rd.random(),rd.random())\n",
    "    if a<1./3 :               #Probabilité 1/3 de reculer de 1 selon x\n",
    "        if x>0.:                #Vérification que la particule peut reculer, dans le cas contraire, elle ne bouge pas\n",
    "            x-=1             \n",
    "              \n",
    "    elif a>2./3 :             #Probabilité 1/3 d'avancer de 1 selon x\n",
    "        if x<L-1:             #Vérification que la particule peut avancer, dans le cas contraire, elle ne bouge pas\n",
    "            x+=1              #Pour a entre 1/3 et 2/3 on ne bouge pas selon x\n",
    "    if b<1./3:                #Même process selon y\n",
    "        if y>0.:\n",
    "            y-=1\n",
    "    elif b>2./3 :\n",
    "        if y<L-1:\n",
    "            y+=1\n",
    "    Xe[p]=np.array([x,y])     #les coordonnées de la particule p sont mises à jours dans Xe\n",
    "    m_instant=np.zeros((L,L)) #Matrice qui va indiquer la postion des particules      \n",
    "    for i in range(nb_particules):  #on met à jour la matrice représentant les particules\n",
    "        m_instant[Xe[i][0],Xe[i][1]] +=1\n",
    "        \n",
    "    plt.imshow(m_instant,cmap = 'Spectral')\n",
    "    plt.title('$Etape\\,{}$'.format(k))\n",
    "    draw() # force le dessin de la figure\n",
    "\n",
    "ioff() # mode interaction off\n",
    "show()"
   ]
  },
  {
   "cell_type": "markdown",
   "metadata": {
    "nbpresent": {
     "id": "ebf300be-4b80-48a8-afa9-3c3a6530d6e9"
    }
   },
   "source": [
    "### Création et désintégration du Xénon,\n",
    "Dans la liste des atomes de Xénon on enlève et ajoute des atomes selon la loi de désintégration de l'iode et de l'uranium et celle du xénon.\n",
    "\n",
    "![produit de fission avec temps de demi-vie de la fission de l'Uranium](https://upload.wikimedia.org/wikipedia/commons/d/d5/Chaine_Xenon.PNG)\n",
    "\n",
    "#### Désintegration du Xénon 135\n",
    "\n",
    "Cette loi est de la forme : $$ N(t) = N{o} \\exp \\left(-\\lambda t\\right) $$ avec N le nombre de particules à l'instant t et $N{o}$ le nombre de particules à l'instant initial.\n",
    "On peut relier \\lambda au temps de demi-vie d'un élement $\\tau_{\\frac{1}{2}}$ \n",
    "$$ \\lambda = \\frac{ln(2)}{\\tau_{\\frac{1}{2}}}$$\n",
    "\n",
    "Pour modéliser cette décroissance radioactive, on prend tire à chaque étape k au hasard un nombre p' entre 0 et 1, si $p' > \\exp(-k \\lambda) $ la particule est désintégrée sinon elle reste.\n",
    "Les étapes k propres à chaque atome modélise la vie de l'atome. \n",
    "\n",
    "A chaque étape, on commencera donc par tester sur la particule la condition de désintegration. Si le Xénon se désintègre en Césium, on l'élimine du tableau. \n",
    "\n",
    "De plus, le xénon 135 peut capturer un neutron et se transformer en Xénon 136 stable. Le xénon 136 peut alors s'accumuler dans le réacteur : on parle d'empoisonnement au Xénon. Il faut donc distinguer dans notre modélisation les deux isotopes de xénon. Sous la forme Xénon 136 table, le temps de vie de l'atome n'est pas importante. On fixera donc pour chaque atome stable le nombre d'étapes à NONE.\n",
    "\n",
    "On modélise de la même manière la désintégration du xénon 135 en césium et en xénon 136. En effet, pour un flux neutronique en réacteur de l'ordre de $1.10^{14} cm^{-2} s^{-1}$, la section efficace du xénon est de l'ordre de $σ=2.65.10^{-18} cm^{2}$, conduit à une probabilité de capture de $p = 2.65.10^{-4} s^{-1}$.  \n",
    "Ainsi après avoir testé si l'atome se désintègre en césium, on teste si il capte un neutron avec le test $p' < p = 2.65.10^{-4} $. \n",
    "\n",
    "Nous verons ultérieurement si il est utile de distinguer sur le graph les deux isotopes. \n",
    "\n",
    "\n",
    "\n",
    "\n",
    "\n"
   ]
  },
  {
   "cell_type": "code",
   "execution_count": 11,
   "metadata": {
    "collapsed": true,
    "nbpresent": {
     "id": "03bf2cd2-4d80-4c9b-bb5e-5fb3de7b64d6"
    }
   },
   "outputs": [],
   "source": [
    "from random import random\n",
    "\n",
    "#tau : temps de demi-vie\n",
    "def desintegration(tau,k):\n",
    "    '''fonction modélisant la desintegration  nucleaire. Retourne False\n",
    "    si la particule n'est pas désintegrer, retourne True sinon'''\n",
    "    p = random()\n",
    "    return(p>np.exp(-np.log(2)*k/tau)) #modélisation de la loi de decroissance nucleaire"
   ]
  },
  {
   "cell_type": "markdown",
   "metadata": {
    "collapsed": true
   },
   "source": [
    "#### Ajout de Xénon\n",
    "\n",
    "   La réaction de fission nucléaire produit du Telium, de l'iode et du Xénon. On ne s'occupe pas du Telium et de l'iode, seulement du Xénon puisque le telium se désintègre en Iode qui se désintègre en Xénon.\n",
    "A chaque étape on ajoute avec une probabilté p, un element de Xénon à l'entrée de la matrice.\n",
    "\n"
   ]
  },
  {
   "cell_type": "code",
   "execution_count": null,
   "metadata": {
    "collapsed": true
   },
   "outputs": [],
   "source": []
  }
 ],
 "metadata": {
  "kernelspec": {
   "display_name": "Python 3",
   "language": "python",
   "name": "python3"
  },
  "language_info": {
   "codemirror_mode": {
    "name": "ipython",
    "version": 3
   },
   "file_extension": ".py",
   "mimetype": "text/x-python",
   "name": "python",
   "nbconvert_exporter": "python",
   "pygments_lexer": "ipython3",
   "version": "3.6.0"
  }
 },
 "nbformat": 4,
 "nbformat_minor": 2
}
