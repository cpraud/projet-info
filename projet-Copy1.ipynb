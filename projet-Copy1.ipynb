{
 "cells": [
  {
   "cell_type": "markdown",
   "metadata": {},
   "source": [
    "# Diffusion du xénon dans le combustible nucléaire\n",
    "\n",
    "Projet informatique, Alice PELOSSE & Clément PRAUD"
   ]
  },
  {
   "cell_type": "markdown",
   "metadata": {},
   "source": [
    "## Modélisation d’un déplacement aléatoire d’atomes\n",
    "Il s'agit de notre première étape, nécesaire avant de prendre en compte l'interaction avec la matrice de Zirconium et l'interaction entre atomes de Xénon.\n",
    "\n",
    "Nous pensons gérer le problème avec des listes, chacune asociée à un type de particule. Les listes ont l'avantage par rapport aux array de numpy d'être de tailles varaibles et d'ainsi permettre à notre nombre d'entités pour chaque espèce de varier.\n",
    "Ainsi, il nous faut générer 4 tableaux indépendants modélisant les atomes présents (Zr, O, C et Xe).\n",
    "Pour chaque atomes on connait sa position (i,j) correspondant à la ligne et à la colonne dans la matrice.\n",
    "\n",
    "A titre d'exemple, appeler Xe[10] retournera les coordonnées de l'atome 11 de Xénon (en convention de numérotation Python)."
   ]
  },
  {
   "cell_type": "markdown",
   "metadata": {},
   "source": [
    "### Déplacement du Xénon\n",
    "\n",
    "Pour un atome donné Xe on a une probabilité $P$ \n",
    "de se déplacer selon une des 9 directions (la 9eme étant on reste sur place).\n",
    "\n",
    "Pour l'échelle de temps de diffusion, il faut regarder l'équation de diffusion. Nous pourrons ainsi, à l'aide des paramètres initiaux eterminer la longueur interessante pour la modélisation.\n",
    "\n",
    "Pour la mise à jour de la position des atomes, on prend de manière aléatoire un atome dans le tableau Xe (fonction random) : en effet, il n'y a aucune raison de parcourir la liste dans l'ordre !\n",
    "\n",
    "Dans un premiere temps, on ne tiendra pas compte du problème de superposition de deux atomes de Xénon,    "
   ]
  },
  {
   "cell_type": "code",
   "execution_count": 9,
   "metadata": {
    "collapsed": false
   },
   "outputs": [
    {
     "name": "stdout",
     "output_type": "stream",
     "text": [
      "[6 6]\n",
      "[2 1]\n"
     ]
    },
    {
     "data": {
      "image/png": "[encoded data removed]",
      "text/plain": [
       "<matplotlib.figure.Figure at 0x719bc18>"
      ]
     },
     "metadata": {},
     "output_type": "display_data"
    }
   ],
   "source": [
    "import numpy as np\n",
    "import matplotlib.pyplot as plt\n",
    "from random import randint\n",
    "\n",
    "\n",
    "#Déclaration des varaibles\n",
    "\n",
    "\n",
    "L=10                  #Taile de la matrice \n",
    "N=2                   #Nombres de particules initialement \n",
    "Nbre_Etapes=10       #Nombres d'instants dans l'expérience\n",
    "\n",
    "\n",
    "def distribution_initiale_Xenon(N,L):\n",
    "    \"\"\"\n",
    "    Retourne la position des N particules présentes à l'état initial dans la matrice de taille NxN\n",
    "    La distribution des position est aléatoire.\n",
    "    Deux atomes peuvent être au même endroit.\n",
    "    \n",
    "    Exemple :\n",
    "        \n",
    "    >>> distribution_initiale_Xenon(2,10)\n",
    "    [array([0, 5]), array([6, 2])]\n",
    "\n",
    "    \"\"\"\n",
    "    n=[0]*N\n",
    "    for i in range(N):\n",
    "        n[i]=np.array([randint(0,L-1),randint(0,L-1)])\n",
    "    return n\n",
    "    \n",
    "Xe=distribution_initiale_Xenon(N,L)\n",
    "\n",
    "M=np.zeros((L,L))\n",
    "\n",
    "for i in range(N):\n",
    "    p=Xe[i]\n",
    "    print(p)\n",
    "    M[p[0]][p[1]] =1\n",
    "    \n",
    "plt.imshow(M,cmap='plasma')\n",
    "plt.show()"
   ]
  },
  {
   "cell_type": "markdown",
   "metadata": {},
   "source": [
    "### Création et désintégration du Xénon,\n",
    "Dans la liste des atomes de Xénon on en lève et ajoute des atomes selon la loi de désintégration de l'iode et de l'uranium et celle du xénon."
   ]
  },
  {
   "cell_type": "code",
   "execution_count": null,
   "metadata": {
    "collapsed": true
   },
   "outputs": [],
   "source": []
  }
 ],
 "metadata": {
  "kernelspec": {
   "display_name": "Python 3",
   "language": "python",
   "name": "python3"
  },
  "language_info": {
   "codemirror_mode": {
    "name": "ipython",
    "version": 3
   },
   "file_extension": ".py",
   "mimetype": "text/x-python",
   "name": "python",
   "nbconvert_exporter": "python",
   "pygments_lexer": "ipython3",
   "version": "3.6.0"
  }
 },
 "nbformat": 4,
 "nbformat_minor": 2
}
