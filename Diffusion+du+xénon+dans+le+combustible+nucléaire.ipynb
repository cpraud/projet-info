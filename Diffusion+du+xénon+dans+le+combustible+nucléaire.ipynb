{
 "cells": [
  {
   "cell_type": "markdown",
   "metadata": {},
   "source": [
    "# Diffusion du xénon dans le combustible nucléaire\n",
    "\n",
    "\n",
    "Projet informatique \n",
    "Alice PELOSSE & Clément PRAUDµ\n",
    "\n"
   ]
  },
  {
   "cell_type": "markdown",
   "metadata": {},
   "source": [
    "## Modélisation d’un déplacement aléatoire d’atomes\n",
    "\n",
    "\n",
    "4 tableaux indépendants modélisant les atomes présents (Zr, O, C et Xe)\n",
    "Pour chaque atomes on connait sa position (i,j) correspondant à la ligne et à la colonne du tableau\n",
    "\n",
    "### Déplacement du Xénon\n",
    "\n",
    "Pour un atome donné Xe on a une probabilité p de se déplacer selon les 9directions (la 9eme = reste sur place)\n",
    "Pour l'échelle de temps de diffusion, il faut regarder l'équation de diffusion\n",
    "On prend de manière aléatoire un atome dans le tableau Xe (fonction random)\n",
    "Dans un premiere temps? on ne tiendra pas compte du problème de superposition de deux atomes de Xénon*\n",
    "\n",
    "### Création et désintégration du xénon\n",
    "\n",
    "Dans la liste des atomes de Xénon on en lève et ajoute des atomes selon la loi de désintégration de l'iode et de l'uranium et celle du xénon.\n",
    "\n",
    "    "
   ]
  },
  {
   "cell_type": "code",
   "execution_count": null,
   "metadata": {
    "collapsed": true
   },
   "outputs": [],
   "source": []
  }
 ],
 "metadata": {
  "kernelspec": {
   "display_name": "Python 3",
   "language": "python",
   "name": "python3"
  },
  "language_info": {
   "codemirror_mode": {
    "name": "ipython",
    "version": 3
   },
   "file_extension": ".py",
   "mimetype": "text/x-python",
   "name": "python",
   "nbconvert_exporter": "python",
   "pygments_lexer": "ipython3",
   "version": "3.6.0"
  }
 },
 "nbformat": 4,
 "nbformat_minor": 2
}
